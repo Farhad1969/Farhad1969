{
 "cells": [
  {
   "cell_type": "code",
   "execution_count": null,
   "id": "c554630b-4645-4bae-93cc-4ee85ec7ac81",
   "metadata": {},
   "outputs": [],
   "source": [
    "from kafka import KafkaConsumer\n",
    "import json\n",
    "\n",
    "# Setup Kafka consumer\n",
    "consumer = KafkaConsumer(\n",
    "    'Farhad_Abasahl',  # Replace 'Farhad Abasahl' with the actual topic name\n",
    "    bootstrap_servers=['localhost:9092'],\n",
    "    auto_offset_reset='earliest',\n",
    "    enable_auto_commit=True,\n",
    "    group_id='my-group',\n",
    "    value_deserializer=lambda x: json.loads(x.decode('utf-8'))\n",
    ")"
   ]
  },
  {
   "cell_type": "code",
   "execution_count": null,
   "id": "f045102d-2fd9-482d-8e85-398f4e3e70e0",
   "metadata": {},
   "outputs": [],
   "source": [
    "from kafka import KafkaConsumer\n",
    "print(\"KafkaConsumer imported successfully!\")"
   ]
  },
  {
   "cell_type": "code",
   "execution_count": null,
   "id": "9f88f535-3295-4a37-98d3-afce3bab8633",
   "metadata": {},
   "outputs": [],
   "source": [
    "for message in consumer:\n",
    "    data = message.value\n",
    "    # Process your data, e.g., cleaning, transforming, etc.\n",
    "    # Validate your data, e.g., check for missing values, correct formats\n",
    "    if is_valid(data):  # Assume is_valid is a function you define\n",
    "        print(\"Valid data:\", data)\n",
    "    else:\n",
    "        print(\"Invalid data:\", data)"
   ]
  },
  {
   "cell_type": "code",
   "execution_count": null,
   "id": "e8271dd0-ea19-47b5-8d91-ee7ac695784b",
   "metadata": {},
   "outputs": [],
   "source": [
    "import psycopg2\n",
    "\n",
    "# Connect to your PostgreSQL database\n",
    "conn = psycopg2.connect(\n",
    "    dbname='streamdb',\n",
    "    user='user',\n",
    "    password='password',\n",
    "    host='localhost',\n",
    "    port='5432'\n",
    ")\n",
    "cursor = conn.cursor()\n",
    "\n"
   ]
  },
  {
   "cell_type": "code",
   "execution_count": null,
   "id": "8c24e87d-6005-45e9-a6dc-4c8404ed2917",
   "metadata": {},
   "outputs": [],
   "source": [
    "\n",
    "\n",
    "\n",
    "# SQL query to insert data\n",
    "insert_query = 'INSERT INTO your_table (column1, column2) VALUES (%s, %s)'\n",
    "\n",
    "# Execute the query\n",
    "cursor.execute(insert_query, (data['column1'], data['column2']))\n",
    "conn.commit()"
   ]
  },
  {
   "cell_type": "code",
   "execution_count": null,
   "id": "168742a0-dbb0-48ad-835e-26c8ea69fd64",
   "metadata": {},
   "outputs": [],
   "source": []
  }
 ],
 "metadata": {
  "kernelspec": {
   "display_name": "Python 3 (ipykernel)",
   "language": "python",
   "name": "python3"
  },
  "language_info": {
   "codemirror_mode": {
    "name": "ipython",
    "version": 3
   },
   "file_extension": ".py",
   "mimetype": "text/x-python",
   "name": "python",
   "nbconvert_exporter": "python",
   "pygments_lexer": "ipython3",
   "version": "3.9.6"
  }
 },
 "nbformat": 4,
 "nbformat_minor": 5
}
