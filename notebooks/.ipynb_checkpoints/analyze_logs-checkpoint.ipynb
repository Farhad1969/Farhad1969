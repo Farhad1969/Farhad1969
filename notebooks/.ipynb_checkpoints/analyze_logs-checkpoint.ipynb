{
 "cells": [
  {
   "cell_type": "code",
   "execution_count": null,
   "id": "68467493-040e-4e77-89d9-b972a95181c6",
   "metadata": {},
   "outputs": [],
   "source": [
    "import requests\n",
    "import pandas as pd\n",
    "\n",
    "ES_HOST = 'http://localhost:9200'\n",
    "INDEX_NAME = 'web_logs'\n",
    "\n",
    "def get_logs():\n",
    "    url = f\"{ES_HOST}/{INDEX_NAME}/_search\"\n",
    "    headers = {'Content-Type': 'application/json'}\n",
    "    query = {\"query\": {\"match_all\": {}}}\n",
    "    response = requests.get(url, headers=headers, data=json.dumps(query))\n",
    "    if response.status_code == 200:\n",
    "        hits = response.json()['hits']['hits']\n",
    "        logs = [hit['_source'] for hit in hits]\n",
    "        return pd.DataFrame(logs)\n",
    "    else:\n",
    "        print(f\"Failed to fetch logs: {response.content}\")\n",
    "        return pd.DataFrame()\n",
    "\n",
    "logs_df = get_logs()\n",
    "logs_df.head()"
   ]
  },
  {
   "cell_type": "code",
   "execution_count": null,
   "id": "fff81496-f3e4-42bc-ac7d-627ba656d528",
   "metadata": {},
   "outputs": [],
   "source": [
    "import matplotlib.pyplot as plt\n",
    "\n",
    "# Traffic patterns\n",
    "logs_df['timestamp'] = pd.to_datetime(logs_df['timestamp'])\n",
    "logs_df.set_index('timestamp', inplace=True)\n",
    "traffic_patterns = logs_df.resample('H').size()\n",
    "\n",
    "plt.figure(figsize=(12, 6))\n",
    "traffic_patterns.plot()\n",
    "plt.title('Traffic Patterns')\n",
    "plt.xlabel('Time')\n",
    "plt.ylabel('Number of Requests')\n",
    "plt.show()\n",
    "\n",
    "# Popular pages\n",
    "popular_pages = logs_df['page'].value_counts()\n",
    "\n",
    "plt.figure(figsize=(12, 6))\n",
    "popular_pages.plot(kind='bar')\n",
    "plt.title('Popular Pages')\n",
    "plt.xlabel('Page')\n",
    "plt.ylabel('Number of Requests')\n",
    "plt.show()\n",
    "\n",
    "# Anomalies (HTTP status codes)\n",
    "status_counts = logs_df['status'].value_counts()\n",
    "\n",
    "plt.figure(figsize=(12, 6))\n",
    "status_counts.plot(kind='bar')\n",
    "plt.title('HTTP Status Codes')\n",
    "plt.xlabel('Status Code')\n",
    "plt.ylabel('Number of Requests')\n",
    "plt.show()"
   ]
  }
 ],
 "metadata": {
  "kernelspec": {
   "display_name": "Python 3 (ipykernel)",
   "language": "python",
   "name": "python3"
  },
  "language_info": {
   "codemirror_mode": {
    "name": "ipython",
    "version": 3
   },
   "file_extension": ".py",
   "mimetype": "text/x-python",
   "name": "python",
   "nbconvert_exporter": "python",
   "pygments_lexer": "ipython3",
   "version": "3.9.6"
  }
 },
 "nbformat": 4,
 "nbformat_minor": 5
}
